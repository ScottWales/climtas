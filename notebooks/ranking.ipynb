{
 "cells": [
  {
   "cell_type": "code",
   "execution_count": 1,
   "metadata": {},
   "outputs": [],
   "source": [
    "%load_ext autoreload\n",
    "%autoreload 2\n",
    "%matplotlib inline"
   ]
  },
  {
   "cell_type": "code",
   "execution_count": 2,
   "metadata": {},
   "outputs": [],
   "source": [
    "import climtas\n",
    "import xarray\n",
    "import glob\n",
    "import dask"
   ]
  },
  {
   "cell_type": "code",
   "execution_count": 3,
   "metadata": {},
   "outputs": [
    {
     "data": {
      "text/html": [
       "<table style=\"border: 2px solid white;\">\n",
       "<tr>\n",
       "<td style=\"vertical-align: top; border: 0px solid white\">\n",
       "<h3 style=\"text-align: left;\">Client</h3>\n",
       "<ul style=\"text-align: left; list-style: none; margin: 0; padding: 0;\">\n",
       "  <li><b>Scheduler: </b>tcp://127.0.0.1:42351</li>\n",
       "  <li><b>Dashboard: </b><a href='http://127.0.0.1:8787/status' target='_blank'>http://127.0.0.1:8787/status</a>\n",
       "</ul>\n",
       "</td>\n",
       "<td style=\"vertical-align: top; border: 0px solid white\">\n",
       "<h3 style=\"text-align: left;\">Cluster</h3>\n",
       "<ul style=\"text-align: left; list-style:none; margin: 0; padding: 0;\">\n",
       "  <li><b>Workers: </b>4</li>\n",
       "  <li><b>Cores: </b>4</li>\n",
       "  <li><b>Memory: </b>16.00 GB</li>\n",
       "</ul>\n",
       "</td>\n",
       "</tr>\n",
       "</table>"
      ],
      "text/plain": [
       "<Client: 'tcp://127.0.0.1:42351' processes=4 threads=4, memory=16.00 GB>"
      ]
     },
     "execution_count": 3,
     "metadata": {},
     "output_type": "execute_result"
    }
   ],
   "source": [
    "import os\n",
    "import dask.distributed\n",
    "\n",
    "# Edit as desired\n",
    "threads_per_worker = 1\n",
    "\n",
    "try:\n",
    "    c # Already running\n",
    "except NameError:\n",
    "    c = dask.distributed.Client(\n",
    "        n_workers=int(os.environ['PBS_NCPUS'])//threads_per_worker,\n",
    "        threads_per_worker=threads_per_worker,\n",
    "        memory_limit=f'{4*threads_per_worker}gb',\n",
    "        local_directory=os.path.join(os.environ['PBS_JOBFS'],\n",
    "                                     'dask-worker-space')\n",
    "    )\n",
    "c"
   ]
  },
  {
   "cell_type": "code",
   "execution_count": 4,
   "metadata": {},
   "outputs": [
    {
     "data": {
      "text/html": [
       "<pre>&lt;xarray.Dataset&gt;\n",
       "Dimensions:    (latitude: 681, longitude: 841, time: 39637)\n",
       "Coordinates:\n",
       "  * latitude   (latitude) float64 -10.0 -10.05 -10.1 ... -43.9 -43.95 -44.0\n",
       "  * longitude  (longitude) float64 112.0 112.0 112.1 112.2 ... 153.9 153.9 154.0\n",
       "  * time       (time) datetime64[ns] 1911-01-01 1911-01-02 ... 2019-07-09\n",
       "Data variables:\n",
       "    sm_pct     (time, latitude, longitude) float32 dask.array&lt;chunksize=(365, 10, 100), meta=np.ndarray&gt;\n",
       "Attributes:\n",
       "    var_name:       sm_pct\n",
       "    Conventions:    CF-1.6, ACDD-1.3\n",
       "    institution:    Bureau of Meteorology\n",
       "    summary:        Data produced by Bureau of Meteorology Australian Water R...\n",
       "    url:            http://www.bom.gov.au/water/landscape\n",
       "    title:          Australian Landscape Water Balance AWRA-L Model Version 6\n",
       "    email:          awrams@bom.gov.au\n",
       "    date_created:   2018-11-02T12:18:48\n",
       "    source:         AWRA-L-v6)\n",
       "    Description:    This data is provided by the Bureau of Meteorology and ca...\n",
       "    date_modified:  2018-11-02T12:18:48</pre>"
      ],
      "text/plain": [
       "<xarray.Dataset>\n",
       "Dimensions:    (latitude: 681, longitude: 841, time: 39637)\n",
       "Coordinates:\n",
       "  * latitude   (latitude) float64 -10.0 -10.05 -10.1 ... -43.9 -43.95 -44.0\n",
       "  * longitude  (longitude) float64 112.0 112.0 112.1 112.2 ... 153.9 153.9 154.0\n",
       "  * time       (time) datetime64[ns] 1911-01-01 1911-01-02 ... 2019-07-09\n",
       "Data variables:\n",
       "    sm_pct     (time, latitude, longitude) float32 dask.array<chunksize=(365, 10, 100), meta=np.ndarray>\n",
       "Attributes:\n",
       "    var_name:       sm_pct\n",
       "    Conventions:    CF-1.6, ACDD-1.3\n",
       "    institution:    Bureau of Meteorology\n",
       "    summary:        Data produced by Bureau of Meteorology Australian Water R...\n",
       "    url:            http://www.bom.gov.au/water/landscape\n",
       "    title:          Australian Landscape Water Balance AWRA-L Model Version 6\n",
       "    email:          awrams@bom.gov.au\n",
       "    date_created:   2018-11-02T12:18:48\n",
       "    source:         AWRA-L-v6)\n",
       "    Description:    This data is provided by the Bureau of Meteorology and ca...\n",
       "    date_modified:  2018-11-02T12:18:48"
      ]
     },
     "execution_count": 4,
     "metadata": {},
     "output_type": "execute_result"
    }
   ],
   "source": [
    "ds = xarray.open_mfdataset(sorted(glob.glob('/g/data/w35/dh4185/data/AWAP/awra_sm_pct/sm_pct_*.nc')), \n",
    "                           combine='nested', \n",
    "                           concat_dim='time',\n",
    "                           chunks={'latitude':10, 'longitude': 100})\n",
    "ds"
   ]
  },
  {
   "cell_type": "code",
   "execution_count": 5,
   "metadata": {},
   "outputs": [
    {
     "name": "stdout",
     "output_type": "stream",
     "text": [
      "Chunk Count: 67689\n",
      "Chunk Size: 1.46 MB\n",
      "Graph Size: 135487\n"
     ]
    }
   ],
   "source": [
    "climtas.helpers.dask_report(ds.sm_pct)"
   ]
  },
  {
   "cell_type": "code",
   "execution_count": 6,
   "metadata": {},
   "outputs": [
    {
     "data": {
      "text/html": [
       "<pre>&lt;xarray.DataArray &#x27;sm_pct&#x27; (time: 39637, latitude: 681, longitude: 841)&gt;\n",
       "dask.array&lt;chunk_apply_by_dayofyear-1629d48891dcc3fba6fa8023d2d35417-&lt;this, shape=(39637, 681, 841), dtype=float32, chunksize=(39637, 10, 100), chunktype=numpy.ndarray&gt;\n",
       "Coordinates:\n",
       "  * latitude   (latitude) float64 -10.0 -10.05 -10.1 ... -43.9 -43.95 -44.0\n",
       "  * time       (time) datetime64[ns] 1911-01-01 1911-01-02 ... 2019-07-09\n",
       "  * longitude  (longitude) float64 112.0 112.0 112.1 112.2 ... 153.9 153.9 154.0\n",
       "Attributes:\n",
       "    name:           sm_pct\n",
       "    units:          fraction of fullness\n",
       "    long_name:      Total rootzone soil moisture (0-100 cm)\n",
       "    standard_name:  sm_pct</pre>"
      ],
      "text/plain": [
       "<xarray.DataArray 'sm_pct' (time: 39637, latitude: 681, longitude: 841)>\n",
       "dask.array<chunk_apply_by_dayofyear-1629d48891dcc3fba6fa8023d2d35417-<this, shape=(39637, 681, 841), dtype=float32, chunksize=(39637, 10, 100), chunktype=numpy.ndarray>\n",
       "Coordinates:\n",
       "  * latitude   (latitude) float64 -10.0 -10.05 -10.1 ... -43.9 -43.95 -44.0\n",
       "  * time       (time) datetime64[ns] 1911-01-01 1911-01-02 ... 2019-07-09\n",
       "  * longitude  (longitude) float64 112.0 112.0 112.1 112.2 ... 153.9 153.9 154.0\n",
       "Attributes:\n",
       "    name:           sm_pct\n",
       "    units:          fraction of fullness\n",
       "    long_name:      Total rootzone soil moisture (0-100 cm)\n",
       "    standard_name:  sm_pct"
      ]
     },
     "execution_count": 6,
     "metadata": {},
     "output_type": "execute_result"
    }
   ],
   "source": [
    "r = climtas.rank.rank_by_dayofyear(ds.sm_pct)\n",
    "r"
   ]
  },
  {
   "cell_type": "code",
   "execution_count": 7,
   "metadata": {},
   "outputs": [
    {
     "name": "stdout",
     "output_type": "stream",
     "text": [
      "Chunk Count: 621\n",
      "Chunk Size: 158.55 MB\n",
      "Graph Size: 139834\n"
     ]
    }
   ],
   "source": [
    "climtas.helpers.dask_report(r)"
   ]
  },
  {
   "cell_type": "code",
   "execution_count": 8,
   "metadata": {},
   "outputs": [
    {
     "name": "stderr",
     "output_type": "stream",
     "text": [
      "/scratch/w35/saw562/conda/envs/dev/lib/python3.8/site-packages/pandas/plotting/_matplotlib/converter.py:103: FutureWarning: Using an implicitly registered datetime converter for a matplotlib plotting method. The converter was registered by pandas on import. Future versions of pandas will require you to explicitly register matplotlib converters.\n",
      "\n",
      "To register the converters:\n",
      "\t>>> from pandas.plotting import register_matplotlib_converters\n",
      "\t>>> register_matplotlib_converters()\n",
      "  warnings.warn(msg, FutureWarning)\n"
     ]
    },
    {
     "data": {
      "text/plain": [
       "[<matplotlib.lines.Line2D at 0x15466ee57ca0>]"
      ]
     },
     "execution_count": 8,
     "metadata": {},
     "output_type": "execute_result"
    },
    {
     "data": {
      "image/png": "[encoded data removed]",
      "text/plain": [
       "<Figure size 432x288 with 1 Axes>"
      ]
     },
     "metadata": {
      "needs_background": "light"
     },
     "output_type": "display_data"
    }
   ],
   "source": [
    "r[:,300,400].plot()"
   ]
  },
  {
   "cell_type": "code",
   "execution_count": null,
   "metadata": {},
   "outputs": [
    {
     "data": {
      "application/vnd.jupyter.widget-view+json": {
       "model_id": "445dc8c4ff3a4a7cae68edcb7e463c93",
       "version_major": 2,
       "version_minor": 0
      },
      "text/plain": [
       "HBox(children=(FloatProgress(value=0.0, max=621.0), HTML(value='')))"
      ]
     },
     "metadata": {},
     "output_type": "display_data"
    }
   ],
   "source": [
    "climtas.io.to_netcdf_throttled(r, '~/scratch/test.nc')"
   ]
  },
  {
   "cell_type": "code",
   "execution_count": null,
   "metadata": {},
   "outputs": [],
   "source": []
  }
 ],
 "metadata": {
  "kernelspec": {
   "display_name": "Python 3",
   "language": "python",
   "name": "python3"
  },
  "language_info": {
   "codemirror_mode": {
    "name": "ipython",
    "version": 3
   },
   "file_extension": ".py",
   "mimetype": "text/x-python",
   "name": "python",
   "nbconvert_exporter": "python",
   "pygments_lexer": "ipython3",
   "version": "3.8.0"
  }
 },
 "nbformat": 4,
 "nbformat_minor": 4
}
