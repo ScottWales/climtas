{
 "cells": [
  {
   "cell_type": "code",
   "execution_count": 1,
   "metadata": {},
   "outputs": [],
   "source": [
    "%load_ext autoreload\n",
    "%autoreload 2"
   ]
  },
  {
   "cell_type": "code",
   "execution_count": 2,
   "metadata": {},
   "outputs": [],
   "source": [
    "import catalysis\n",
    "import xarray\n",
    "import glob\n",
    "import dask"
   ]
  },
  {
   "cell_type": "code",
   "execution_count": 3,
   "metadata": {},
   "outputs": [
    {
     "data": {
      "text/html": [
       "<table style=\"border: 2px solid white;\">\n",
       "<tr>\n",
       "<td style=\"vertical-align: top; border: 0px solid white\">\n",
       "<h3 style=\"text-align: left;\">Client</h3>\n",
       "<ul style=\"text-align: left; list-style: none; margin: 0; padding: 0;\">\n",
       "  <li><b>Scheduler: </b>tcp://127.0.0.1:33965</li>\n",
       "  <li><b>Dashboard: </b><a href='http://127.0.0.1:8787/status' target='_blank'>http://127.0.0.1:8787/status</a>\n",
       "</ul>\n",
       "</td>\n",
       "<td style=\"vertical-align: top; border: 0px solid white\">\n",
       "<h3 style=\"text-align: left;\">Cluster</h3>\n",
       "<ul style=\"text-align: left; list-style:none; margin: 0; padding: 0;\">\n",
       "  <li><b>Workers: </b>4</li>\n",
       "  <li><b>Cores: </b>4</li>\n",
       "  <li><b>Memory: </b>16.00 GB</li>\n",
       "</ul>\n",
       "</td>\n",
       "</tr>\n",
       "</table>"
      ],
      "text/plain": [
       "<Client: 'tcp://127.0.0.1:33965' processes=4 threads=4, memory=16.00 GB>"
      ]
     },
     "execution_count": 3,
     "metadata": {},
     "output_type": "execute_result"
    }
   ],
   "source": [
    "import os\n",
    "import dask.distributed\n",
    "\n",
    "# Edit as desired\n",
    "threads_per_worker = 1\n",
    "\n",
    "try:\n",
    "    c # Already running\n",
    "except NameError:\n",
    "    c = dask.distributed.Client(\n",
    "        n_workers=int(os.environ['PBS_NCPUS'])//threads_per_worker,\n",
    "        threads_per_worker=threads_per_worker,\n",
    "        memory_limit=f'{4*threads_per_worker}gb',\n",
    "        local_directory=os.path.join(os.environ['PBS_JOBFS'],\n",
    "                                     'dask-worker-space')\n",
    "    )\n",
    "c"
   ]
  },
  {
   "cell_type": "code",
   "execution_count": 4,
   "metadata": {},
   "outputs": [
    {
     "data": {
      "text/html": [
       "<pre>&lt;xarray.Dataset&gt;\n",
       "Dimensions:    (latitude: 681, longitude: 841, time: 39637)\n",
       "Coordinates:\n",
       "  * longitude  (longitude) float64 112.0 112.0 112.1 112.2 ... 153.9 153.9 154.0\n",
       "  * latitude   (latitude) float64 -10.0 -10.05 -10.1 ... -43.9 -43.95 -44.0\n",
       "  * time       (time) datetime64[ns] 1911-01-01 1911-01-02 ... 2019-07-09\n",
       "Data variables:\n",
       "    sm_pct     (time, latitude, longitude) float32 dask.array&lt;chunksize=(365, 20, 100), meta=np.ndarray&gt;\n",
       "Attributes:\n",
       "    var_name:       sm_pct\n",
       "    Conventions:    CF-1.6, ACDD-1.3\n",
       "    institution:    Bureau of Meteorology\n",
       "    summary:        Data produced by Bureau of Meteorology Australian Water R...\n",
       "    url:            http://www.bom.gov.au/water/landscape\n",
       "    title:          Australian Landscape Water Balance AWRA-L Model Version 6\n",
       "    email:          awrams@bom.gov.au\n",
       "    date_created:   2018-11-02T12:18:48\n",
       "    source:         AWRA-L-v6)\n",
       "    Description:    This data is provided by the Bureau of Meteorology and ca...\n",
       "    date_modified:  2018-11-02T12:18:48</pre>"
      ],
      "text/plain": [
       "<xarray.Dataset>\n",
       "Dimensions:    (latitude: 681, longitude: 841, time: 39637)\n",
       "Coordinates:\n",
       "  * longitude  (longitude) float64 112.0 112.0 112.1 112.2 ... 153.9 153.9 154.0\n",
       "  * latitude   (latitude) float64 -10.0 -10.05 -10.1 ... -43.9 -43.95 -44.0\n",
       "  * time       (time) datetime64[ns] 1911-01-01 1911-01-02 ... 2019-07-09\n",
       "Data variables:\n",
       "    sm_pct     (time, latitude, longitude) float32 dask.array<chunksize=(365, 20, 100), meta=np.ndarray>\n",
       "Attributes:\n",
       "    var_name:       sm_pct\n",
       "    Conventions:    CF-1.6, ACDD-1.3\n",
       "    institution:    Bureau of Meteorology\n",
       "    summary:        Data produced by Bureau of Meteorology Australian Water R...\n",
       "    url:            http://www.bom.gov.au/water/landscape\n",
       "    title:          Australian Landscape Water Balance AWRA-L Model Version 6\n",
       "    email:          awrams@bom.gov.au\n",
       "    date_created:   2018-11-02T12:18:48\n",
       "    source:         AWRA-L-v6)\n",
       "    Description:    This data is provided by the Bureau of Meteorology and ca...\n",
       "    date_modified:  2018-11-02T12:18:48"
      ]
     },
     "execution_count": 4,
     "metadata": {},
     "output_type": "execute_result"
    }
   ],
   "source": [
    "ds = xarray.open_mfdataset(sorted(glob.glob('/g/data/w35/dh4185/data/AWAP/awra_sm_pct/sm_pct_*.nc')), \n",
    "                           combine='nested', \n",
    "                           concat_dim='time',\n",
    "                           chunks={'latitude':20, 'longitude': 100})\n",
    "ds"
   ]
  },
  {
   "cell_type": "code",
   "execution_count": 5,
   "metadata": {},
   "outputs": [
    {
     "name": "stdout",
     "output_type": "stream",
     "text": [
      "Chunk Count: 34335\n",
      "Chunk Size: 2.93 MB\n",
      "Graph Size: 68779\n"
     ]
    }
   ],
   "source": [
    "catalysis.helpers.dask_report(ds.sm_pct)"
   ]
  },
  {
   "cell_type": "code",
   "execution_count": 6,
   "metadata": {},
   "outputs": [
    {
     "data": {
      "text/html": [
       "<pre>&lt;xarray.DataArray &#x27;sm_pct&#x27; (time: 39637, latitude: 681, longitude: 841)&gt;\n",
       "dask.array&lt;group_helper-d3049b2c09f1b4f01ea177f75034caea-&lt;this, shape=(39637, 681, 841), dtype=float32, chunksize=(39637, 20, 100), chunktype=numpy.ndarray&gt;\n",
       "Coordinates:\n",
       "  * longitude  (longitude) float64 112.0 112.0 112.1 112.2 ... 153.9 153.9 154.0\n",
       "  * time       (time) datetime64[ns] 1911-01-01 1911-01-02 ... 2019-07-09\n",
       "  * latitude   (latitude) float64 -10.0 -10.05 -10.1 ... -43.9 -43.95 -44.0\n",
       "Attributes:\n",
       "    name:           sm_pct\n",
       "    units:          fraction of fullness\n",
       "    long_name:      Total rootzone soil moisture (0-100 cm)\n",
       "    standard_name:  sm_pct</pre>"
      ],
      "text/plain": [
       "<xarray.DataArray 'sm_pct' (time: 39637, latitude: 681, longitude: 841)>\n",
       "dask.array<group_helper-d3049b2c09f1b4f01ea177f75034caea-<this, shape=(39637, 681, 841), dtype=float32, chunksize=(39637, 20, 100), chunktype=numpy.ndarray>\n",
       "Coordinates:\n",
       "  * longitude  (longitude) float64 112.0 112.0 112.1 112.2 ... 153.9 153.9 154.0\n",
       "  * time       (time) datetime64[ns] 1911-01-01 1911-01-02 ... 2019-07-09\n",
       "  * latitude   (latitude) float64 -10.0 -10.05 -10.1 ... -43.9 -43.95 -44.0\n",
       "Attributes:\n",
       "    name:           sm_pct\n",
       "    units:          fraction of fullness\n",
       "    long_name:      Total rootzone soil moisture (0-100 cm)\n",
       "    standard_name:  sm_pct"
      ]
     },
     "execution_count": 6,
     "metadata": {},
     "output_type": "execute_result"
    }
   ],
   "source": [
    "r = catalysis.rank.rank_by_dayofyear(ds.sm_pct)\n",
    "r"
   ]
  },
  {
   "cell_type": "code",
   "execution_count": 7,
   "metadata": {},
   "outputs": [
    {
     "name": "stdout",
     "output_type": "stream",
     "text": [
      "Chunk Count: 315\n",
      "Chunk Size: 317.10 MB\n",
      "Graph Size: 70984\n"
     ]
    }
   ],
   "source": [
    "catalysis.helpers.dask_report(r)"
   ]
  },
  {
   "cell_type": "code",
   "execution_count": 8,
   "metadata": {},
   "outputs": [
    {
     "data": {
      "text/html": [
       "<pre>&lt;xarray.DataArray &#x27;sm_pct&#x27; ()&gt;\n",
       "array(0)\n",
       "Coordinates:\n",
       "    longitude  float64 112.0\n",
       "    time       datetime64[ns] 1911-01-01\n",
       "    latitude   float64 -10.0\n",
       "Attributes:\n",
       "    name:           sm_pct\n",
       "    units:          fraction of fullness\n",
       "    long_name:      Total rootzone soil moisture (0-100 cm)\n",
       "    standard_name:  sm_pct</pre>"
      ],
      "text/plain": [
       "<xarray.DataArray 'sm_pct' ()>\n",
       "array(0)\n",
       "Coordinates:\n",
       "    longitude  float64 112.0\n",
       "    time       datetime64[ns] 1911-01-01\n",
       "    latitude   float64 -10.0\n",
       "Attributes:\n",
       "    name:           sm_pct\n",
       "    units:          fraction of fullness\n",
       "    long_name:      Total rootzone soil moisture (0-100 cm)\n",
       "    standard_name:  sm_pct"
      ]
     },
     "execution_count": 8,
     "metadata": {},
     "output_type": "execute_result"
    }
   ],
   "source": [
    "r[0,0,0].load()"
   ]
  },
  {
   "cell_type": "code",
   "execution_count": 9,
   "metadata": {},
   "outputs": [
    {
     "name": "stdout",
     "output_type": "stream",
     "text": [
      "CPU times: user 1e+03 ns, sys: 1 µs, total: 2 µs\n",
      "Wall time: 5.48 µs\n"
     ]
    }
   ],
   "source": [
    "%%time\n",
    "#catalysis.io.to_netcdf_chunkwise(r, '~/scratch/test.nc')\n"
   ]
  },
  {
   "cell_type": "code",
   "execution_count": 10,
   "metadata": {},
   "outputs": [
    {
     "data": {
      "text/plain": [
       "{0: <Nanny: tcp://127.0.0.1:33615, threads: 1>,\n",
       " 1: <Nanny: tcp://127.0.0.1:34435, threads: 1>,\n",
       " 2: <Nanny: tcp://127.0.0.1:45825, threads: 1>,\n",
       " 3: <Nanny: tcp://127.0.0.1:37285, threads: 1>}"
      ]
     },
     "execution_count": 10,
     "metadata": {},
     "output_type": "execute_result"
    }
   ],
   "source": [
    "c.cluster.workers"
   ]
  },
  {
   "cell_type": "code",
   "execution_count": 11,
   "metadata": {},
   "outputs": [],
   "source": [
    "def to_netcdf_chunkwise(da, path, complevel=4):\n",
    "    \"\"\"\n",
    "    Save a DataArray to file by calculating each chunk separately (rather than\n",
    "    submitting the whole Dask graph at once). This may be helpful when chunks\n",
    "    are large, e.g. doing an operation on dayofyear grouping for a long timeseries.\n",
    "    \"\"\"\n",
    "    ds = xarray.Dataset({da.name: da})\n",
    "\n",
    "    encoding = {da.name: {\n",
    "        'zlib': True,\n",
    "        'shuffle': True,\n",
    "        'complevel': complevel,\n",
    "        'chunksizes': da.data.chunksize,\n",
    "        }}\n",
    "\n",
    "    f = ds.to_netcdf(path, encoding=encoding, compute=False)\n",
    "\n",
    "    client = c\n",
    "    sync = True\n",
    "\n",
    "    # Run each of the save operations one at a time, then finalize\n",
    "    old_graph = f.__dask_graph__()\n",
    "    new_graph = {}\n",
    "    futures = []\n",
    "    for k, v in old_graph.items():\n",
    "        if v[0] == dask.array.core.store_chunk:\n",
    "            opt, _ = dask.optimization.cull(old_graph, k)\n",
    "            opt, _ = dask.optimization.fuse(opt, k)\n",
    "            new_graph[k] = client.get(opt, k, sync=sync)\n",
    "            futures.append(new_graph[k])\n",
    "            continue\n",
    "            \n",
    "        new_graph[k] = v\n",
    "    \n",
    "    # Finalise\n",
    "    k = list(f.__dask_layers__())\n",
    "    opt, _ = dask.optimization.cull(new_graph, k)\n",
    "    opt, _ = dask.optimization.fuse(opt, k)\n",
    "    ff = client.get(opt, k, sync=sync)\n",
    "    \n",
    "    if not sync:\n",
    "        dask.distributed.wait(ff)\n"
   ]
  },
  {
   "cell_type": "code",
   "execution_count": null,
   "metadata": {},
   "outputs": [],
   "source": [
    "%%time\n",
    "\n",
    "to_netcdf_chunkwise(r, '~/scratch/test.nc')\n"
   ]
  },
  {
   "cell_type": "code",
   "execution_count": null,
   "metadata": {},
   "outputs": [],
   "source": []
  },
  {
   "cell_type": "code",
   "execution_count": null,
   "metadata": {},
   "outputs": [],
   "source": []
  }
 ],
 "metadata": {
  "kernelspec": {
   "display_name": "Python 3",
   "language": "python",
   "name": "python3"
  },
  "language_info": {
   "codemirror_mode": {
    "name": "ipython",
    "version": 3
   },
   "file_extension": ".py",
   "mimetype": "text/x-python",
   "name": "python",
   "nbconvert_exporter": "python",
   "pygments_lexer": "ipython3",
   "version": "3.8.0"
  }
 },
 "nbformat": 4,
 "nbformat_minor": 4
}
