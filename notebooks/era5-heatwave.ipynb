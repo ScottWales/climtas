{
 "cells": [
  {
   "cell_type": "code",
   "execution_count": 1,
   "metadata": {},
   "outputs": [],
   "source": [
    "import climtas\n",
    "import xarray\n",
    "from glob import glob"
   ]
  },
  {
   "cell_type": "code",
   "execution_count": 2,
   "metadata": {},
   "outputs": [
    {
     "data": {
      "text/html": [
       "<table style=\"border: 2px solid white;\">\n",
       "<tr>\n",
       "<td style=\"vertical-align: top; border: 0px solid white\">\n",
       "<h3 style=\"text-align: left;\">Client</h3>\n",
       "<ul style=\"text-align: left; list-style: none; margin: 0; padding: 0;\">\n",
       "  <li><b>Scheduler: </b>tcp://127.0.0.1:46133</li>\n",
       "  <li><b>Dashboard: </b><a href='http://127.0.0.1:8787/status' target='_blank'>http://127.0.0.1:8787/status</a>\n",
       "</ul>\n",
       "</td>\n",
       "<td style=\"vertical-align: top; border: 0px solid white\">\n",
       "<h3 style=\"text-align: left;\">Cluster</h3>\n",
       "<ul style=\"text-align: left; list-style:none; margin: 0; padding: 0;\">\n",
       "  <li><b>Workers: </b>1</li>\n",
       "  <li><b>Cores: </b>1</li>\n",
       "  <li><b>Memory: </b>2.00 GB</li>\n",
       "</ul>\n",
       "</td>\n",
       "</tr>\n",
       "</table>"
      ],
      "text/plain": [
       "<Client: 'tcp://127.0.0.1:46133' processes=1 threads=1, memory=2.00 GB>"
      ]
     },
     "execution_count": 2,
     "metadata": {},
     "output_type": "execute_result"
    }
   ],
   "source": [
    "import os\n",
    "import dask.distributed\n",
    "\n",
    "# Edit as desired\n",
    "threads_per_worker = 1\n",
    "\n",
    "try:\n",
    "    c # Already running\n",
    "except NameError:\n",
    "    c = dask.distributed.Client(\n",
    "        n_workers=int(os.environ.get('PBS_NCPUS', 1))//threads_per_worker,\n",
    "        threads_per_worker=threads_per_worker,\n",
    "        memory_limit=f'{4*threads_per_worker}gb',\n",
    "        local_directory=os.path.join(os.environ.get('PBS_JOBFS'),'dask-worker-space')\n",
    "    )\n",
    "c"
   ]
  },
  {
   "cell_type": "code",
   "execution_count": 3,
   "metadata": {},
   "outputs": [
    {
     "data": {
      "text/html": [
       "<pre>&lt;xarray.Dataset&gt;\n",
       "Dimensions:    (latitude: 721, longitude: 1440, time: 359400)\n",
       "Coordinates:\n",
       "  * latitude   (latitude) float32 90.0 89.75 89.5 89.25 ... -89.5 -89.75 -90.0\n",
       "  * longitude  (longitude) float32 -180.0 -179.75 -179.5 ... 179.25 179.5 179.75\n",
       "  * time       (time) datetime64[ns] 1979-01-01 ... 2019-12-31T23:00:00\n",
       "Data variables:\n",
       "    t2m        (time, latitude, longitude) float32 dask.array&lt;chunksize=(744, 100, 100), meta=np.ndarray&gt;\n",
       "Attributes:\n",
       "    Conventions:  CF-1.6\n",
       "    history:      2019-03-13 14:42:07 GMT by grib_to_netcdf-2.10.0: /opt/ecmw...</pre>"
      ],
      "text/plain": [
       "<xarray.Dataset>\n",
       "Dimensions:    (latitude: 721, longitude: 1440, time: 359400)\n",
       "Coordinates:\n",
       "  * latitude   (latitude) float32 90.0 89.75 89.5 89.25 ... -89.5 -89.75 -90.0\n",
       "  * longitude  (longitude) float32 -180.0 -179.75 -179.5 ... 179.25 179.5 179.75\n",
       "  * time       (time) datetime64[ns] 1979-01-01 ... 2019-12-31T23:00:00\n",
       "Data variables:\n",
       "    t2m        (time, latitude, longitude) float32 dask.array<chunksize=(744, 100, 100), meta=np.ndarray>\n",
       "Attributes:\n",
       "    Conventions:  CF-1.6\n",
       "    history:      2019-03-13 14:42:07 GMT by grib_to_netcdf-2.10.0: /opt/ecmw..."
      ]
     },
     "execution_count": 3,
     "metadata": {},
     "output_type": "execute_result"
    }
   ],
   "source": [
    "# Open the dataset\n",
    "\n",
    "ds = xarray.open_mfdataset(sorted(glob('/g/data/ub4/era5/netcdf/surface/2T/*/2T_era5_global_*.nc')),\n",
    "                           combine='nested',\n",
    "                           concat_dim='time',\n",
    "                           chunks={'latitude': 100, 'longitude': 100})\n",
    "ds"
   ]
  },
  {
   "cell_type": "code",
   "execution_count": 4,
   "metadata": {},
   "outputs": [
    {
     "data": {
      "text/html": [
       "<pre>&lt;xarray.DataArray &#x27;reshape-30a009221afac5831d30514f5f666b97&#x27; (time: 14975, latitude: 721, longitude: 1440)&gt;\n",
       "dask.array&lt;mean_agg-aggregate, shape=(14975, 721, 1440), dtype=float32, chunksize=(31, 100, 100), chunktype=numpy.ndarray&gt;\n",
       "Coordinates:\n",
       "  * time       (time) datetime64[ns] 1979-01-01 1979-01-02 ... 2019-12-31\n",
       "  * latitude   (latitude) float32 90.0 89.75 89.5 89.25 ... -89.5 -89.75 -90.0\n",
       "  * longitude  (longitude) float32 -180.0 -179.75 -179.5 ... 179.25 179.5 179.75</pre>"
      ],
      "text/plain": [
       "<xarray.DataArray 'reshape-30a009221afac5831d30514f5f666b97' (time: 14975, latitude: 721, longitude: 1440)>\n",
       "dask.array<mean_agg-aggregate, shape=(14975, 721, 1440), dtype=float32, chunksize=(31, 100, 100), chunktype=numpy.ndarray>\n",
       "Coordinates:\n",
       "  * time       (time) datetime64[ns] 1979-01-01 1979-01-02 ... 2019-12-31\n",
       "  * latitude   (latitude) float32 90.0 89.75 89.5 89.25 ... -89.5 -89.75 -90.0\n",
       "  * longitude  (longitude) float32 -180.0 -179.75 -179.5 ... 179.25 179.5 179.75"
      ]
     },
     "execution_count": 4,
     "metadata": {},
     "output_type": "execute_result"
    }
   ],
   "source": [
    "# Convert to daily mean - or max, min etc.\n",
    "\n",
    "\n",
    "def downsample(da, *, count):\n",
    "    shape = list(da.shape)\n",
    "    shape[0] //= count\n",
    "    shape.insert(1, count)\n",
    "    \n",
    "    data = da.data.reshape(shape)\n",
    "    \n",
    "    dims = list(da.dims)\n",
    "    dims.insert(1, 'sample')\n",
    "    \n",
    "    result = xarray.DataArray(data, dims=dims)\n",
    "    \n",
    "    result.coords[dims[0]] = da.coords[dims[0]][::count]\n",
    "    for d in dims[2:]:\n",
    "        result.coords[d] = da.coords[d]\n",
    "    \n",
    "    return result\n",
    "\n",
    "t2m_daily = downsample(ds.t2m, count=24).mean('sample')\n",
    "t2m_daily"
   ]
  },
  {
   "cell_type": "code",
   "execution_count": 5,
   "metadata": {},
   "outputs": [
    {
     "data": {
      "text/html": [
       "<pre>&lt;xarray.DataArray (time: 14975, latitude: 721, longitude: 1440)&gt;\n",
       "dask.array&lt;where, shape=(14975, 721, 1440), dtype=float32, chunksize=(31, 100, 100), chunktype=numpy.ndarray&gt;\n",
       "Coordinates:\n",
       "  * time       (time) datetime64[ns] 1979-01-01 1979-01-02 ... 2019-12-31\n",
       "  * latitude   (latitude) float32 90.0 89.75 89.5 89.25 ... -89.5 -89.75 -90.0\n",
       "  * longitude  (longitude) float32 -180.0 -179.75 -179.5 ... 179.25 179.5 179.75</pre>"
      ],
      "text/plain": [
       "<xarray.DataArray (time: 14975, latitude: 721, longitude: 1440)>\n",
       "dask.array<where, shape=(14975, 721, 1440), dtype=float32, chunksize=(31, 100, 100), chunktype=numpy.ndarray>\n",
       "Coordinates:\n",
       "  * time       (time) datetime64[ns] 1979-01-01 1979-01-02 ... 2019-12-31\n",
       "  * latitude   (latitude) float32 90.0 89.75 89.5 89.25 ... -89.5 -89.75 -90.0\n",
       "  * longitude  (longitude) float32 -180.0 -179.75 -179.5 ... 179.25 179.5 179.75"
      ]
     },
     "execution_count": 5,
     "metadata": {},
     "output_type": "execute_result"
    }
   ],
   "source": [
    "# Smooth out the data\n",
    "\n",
    "t2m_smooth = t2m_daily.rolling(time=15, center=True).mean()\n",
    "t2m_smooth"
   ]
  },
  {
   "cell_type": "code",
   "execution_count": 6,
   "metadata": {},
   "outputs": [
    {
     "data": {
      "text/html": [
       "<pre>&lt;xarray.DataArray (latitude: 721, longitude: 1440, dayofyear: 366)&gt;\n",
       "dask.array&lt;group_func, shape=(721, 1440, 366), dtype=float32, chunksize=(100, 100, 366), chunktype=numpy.ndarray&gt;\n",
       "Coordinates:\n",
       "  * latitude   (latitude) float32 90.0 89.75 89.5 89.25 ... -89.5 -89.75 -90.0\n",
       "  * longitude  (longitude) float32 -180.0 -179.75 -179.5 ... 179.25 179.5 179.75\n",
       "  * dayofyear  (dayofyear) int64 1 2 3 4 5 6 7 8 ... 360 361 362 363 364 365 366</pre>"
      ],
      "text/plain": [
       "<xarray.DataArray (latitude: 721, longitude: 1440, dayofyear: 366)>\n",
       "dask.array<group_func, shape=(721, 1440, 366), dtype=float32, chunksize=(100, 100, 366), chunktype=numpy.ndarray>\n",
       "Coordinates:\n",
       "  * latitude   (latitude) float32 90.0 89.75 89.5 89.25 ... -89.5 -89.75 -90.0\n",
       "  * longitude  (longitude) float32 -180.0 -179.75 -179.5 ... 179.25 179.5 179.75\n",
       "  * dayofyear  (dayofyear) int64 1 2 3 4 5 6 7 8 ... 360 361 362 363 364 365 366"
      ]
     },
     "execution_count": 6,
     "metadata": {},
     "output_type": "execute_result"
    }
   ],
   "source": [
    "# Calculate percentiles\n",
    "# The rolling mean will leave some NAN values at the start and end of the\n",
    "# time series, these must be removed (e.g. by doing the rolling on a larger\n",
    "# timeseries than you need and trimming the NANs off before the percentile)\n",
    "\n",
    "t2m_percentile = climtas.apply_doy.percentile_doy(t2m_smooth.sel(time=slice('1980','2018')), 90)\n",
    "t2m_percentile"
   ]
  },
  {
   "cell_type": "code",
   "execution_count": null,
   "metadata": {},
   "outputs": [
    {
     "data": {
      "application/vnd.jupyter.widget-view+json": {
       "model_id": "5081990842fb4f07b26a10b659018b66",
       "version_major": 2,
       "version_minor": 0
      },
      "text/plain": [
       "HBox(children=(FloatProgress(value=0.0, max=120.0), HTML(value='')))"
      ]
     },
     "metadata": {},
     "output_type": "display_data"
    }
   ],
   "source": [
    "# Use the throttled saver to write to netcdf one chunk at a time\n",
    "\n",
    "climtas.io.to_netcdf_throttled(t2m_percentile.to_dataset(name='t2m_percentile'),\n",
    "                               '/g/data/w35/saw562/era5_heatwave_clim.nc')"
   ]
  },
  {
   "cell_type": "code",
   "execution_count": null,
   "metadata": {},
   "outputs": [],
   "source": [
    "threshold = xarray.open_dataset('/g/data/w35/saw562/era5_heatwave_clim.nc',\n",
    "                           chunks={'latitude': 200, 'longitude': 200}).t2m_percentile\n",
    "threshold"
   ]
  },
  {
   "cell_type": "code",
   "execution_count": null,
   "metadata": {},
   "outputs": [],
   "source": [
    "%matplotlib inline\n",
    "threshold.sel(latitude=-37.8, longitude=144.9, method='nearest').plot()"
   ]
  },
  {
   "cell_type": "code",
   "execution_count": null,
   "metadata": {},
   "outputs": [],
   "source": [
    "t2m_daily.groupby('time.dayofyear') > threshold"
   ]
  },
  {
   "cell_type": "code",
   "execution_count": null,
   "metadata": {},
   "outputs": [],
   "source": [
    "climtas.event.find_events(t2m_daily.groupby('time.dayofyear') > threshold, min_duration=3)"
   ]
  },
  {
   "cell_type": "code",
   "execution_count": null,
   "metadata": {},
   "outputs": [],
   "source": [
    "t2m_daily.groupby('time.dayofyear') > threshold.transpose('dayofyear','latitude','longitude')"
   ]
  },
  {
   "cell_type": "code",
   "execution_count": null,
   "metadata": {},
   "outputs": [],
   "source": []
  }
 ],
 "metadata": {
  "kernelspec": {
   "display_name": "Python [conda env:conda-climtas]",
   "language": "python",
   "name": "conda-env-conda-climtas-py"
  },
  "language_info": {
   "codemirror_mode": {
    "name": "ipython",
    "version": 3
   },
   "file_extension": ".py",
   "mimetype": "text/x-python",
   "name": "python",
   "nbconvert_exporter": "python",
   "pygments_lexer": "ipython3",
   "version": "3.7.6"
  }
 },
 "nbformat": 4,
 "nbformat_minor": 4
}
