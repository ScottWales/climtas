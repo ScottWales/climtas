{
 "cells": [
  {
   "cell_type": "code",
   "execution_count": 1,
   "metadata": {},
   "outputs": [
    {
     "data": {
      "text/plain": [
       "('0.16.1', '0.2.5+11.g217faec')"
      ]
     },
     "execution_count": 1,
     "metadata": {},
     "output_type": "execute_result"
    }
   ],
   "source": [
    "import xarray\n",
    "import climtas\n",
    "\n",
    "xarray.__version__, climtas.__version__"
   ]
  },
  {
   "cell_type": "code",
   "execution_count": 2,
   "metadata": {},
   "outputs": [
    {
     "name": "stdout",
     "output_type": "stream",
     "text": [
      "\u001b[0m\u001b[01;32m/g/data/ub4/era5/netcdf/surface/t2m/2019/t2m_era5_global_20190101_20190131.nc\u001b[0m*\n",
      "\u001b[01;32m/g/data/ub4/era5/netcdf/surface/t2m/2019/t2m_era5_global_20190201_20190228.nc\u001b[0m*\n",
      "\u001b[01;32m/g/data/ub4/era5/netcdf/surface/t2m/2019/t2m_era5_global_20190301_20190331.nc\u001b[0m*\n",
      "\u001b[01;32m/g/data/ub4/era5/netcdf/surface/t2m/2019/t2m_era5_global_20190401_20190430.nc\u001b[0m*\n",
      "\u001b[01;32m/g/data/ub4/era5/netcdf/surface/t2m/2019/t2m_era5_global_20190501_20190531.nc\u001b[0m*\n",
      "/g/data/ub4/era5/netcdf/surface/t2m/2019/t2m_era5_global_20190601_20190630.nc\n",
      "/g/data/ub4/era5/netcdf/surface/t2m/2019/t2m_era5_global_20190701_20190731.nc\n",
      "/g/data/ub4/era5/netcdf/surface/t2m/2019/t2m_era5_global_20190801_20190831.nc\n",
      "/g/data/ub4/era5/netcdf/surface/t2m/2019/t2m_era5_global_20190901_20190930.nc\n",
      "/g/data/ub4/era5/netcdf/surface/t2m/2019/t2m_era5_global_20191001_20191031.nc\n",
      "/g/data/ub4/era5/netcdf/surface/t2m/2019/t2m_era5_global_20191101_20191130.nc\n",
      "/g/data/ub4/era5/netcdf/surface/t2m/2019/t2m_era5_global_20191201_20191231.nc\n"
     ]
    }
   ],
   "source": [
    "ls /g/data/ub4/era5/netcdf/surface/t2m/2019/t2m_era5_global_*.nc"
   ]
  },
  {
   "cell_type": "markdown",
   "metadata": {},
   "source": [
    "### Function to benchmark\n",
    "\n",
    "We'll look at a simple function to start off with, that just returns the mean of the data"
   ]
  },
  {
   "cell_type": "code",
   "execution_count": 3,
   "metadata": {},
   "outputs": [],
   "source": [
    "def func(da):    \n",
    "    return da.mean()"
   ]
  },
  {
   "cell_type": "markdown",
   "metadata": {},
   "source": [
    "## Running Once\n",
    "\n",
    "Just running it once gives a basic idea of performance. I've used the chunking in the NetCDF file as a starting point."
   ]
  },
  {
   "cell_type": "code",
   "execution_count": 4,
   "metadata": {},
   "outputs": [
    {
     "data": {
      "text/plain": [
       "{'time_total': 7.717563376761973,\n",
       " 'time_open': 0.020742579828947783,\n",
       " 'time_function': 0.003424877766519785,\n",
       " 'time_optimize': 0.01196580519899726,\n",
       " 'time_load': 7.677215476054698,\n",
       " 'chunks': {'time': 93, 'latitude': 91, 'longitude': 180},\n",
       " 'nchunks_in': 512,\n",
       " 'nchunks_out': 1,\n",
       " 'chunksize_in': '6.09 MB',\n",
       " 'chunksize_out': '4 B',\n",
       " 'tasks_in': 513,\n",
       " 'tasks_out': 1098,\n",
       " 'tasks_optimized': 1098}"
      ]
     },
     "execution_count": 4,
     "metadata": {},
     "output_type": "execute_result"
    }
   ],
   "source": [
    "climtas.profile.profile_once('/g/data/ub4/era5/netcdf/surface/t2m/2019/t2m_era5_global_20190101_*.nc',\n",
    "                             variable='t2m',\n",
    "                             function=func,\n",
    "                             chunks={'time':93, 'latitude': 91, 'longitude': 180})"
   ]
  },
  {
   "cell_type": "markdown",
   "metadata": {},
   "source": [
    "### Benchmarking\n",
    "\n",
    "Now let's benchmark with a few different chunk shapes. The function gets run three times with each of the chunk options and the minimum time taken is returned"
   ]
  },
  {
   "cell_type": "code",
   "execution_count": 5,
   "metadata": {},
   "outputs": [
    {
     "data": {
      "text/html": [
       "<div>\n",
       "<style scoped>\n",
       "    .dataframe tbody tr th:only-of-type {\n",
       "        vertical-align: middle;\n",
       "    }\n",
       "\n",
       "    .dataframe tbody tr th {\n",
       "        vertical-align: top;\n",
       "    }\n",
       "\n",
       "    .dataframe thead th {\n",
       "        text-align: right;\n",
       "    }\n",
       "</style>\n",
       "<table border=\"1\" class=\"dataframe\">\n",
       "  <thead>\n",
       "    <tr style=\"text-align: right;\">\n",
       "      <th></th>\n",
       "      <th>time_total</th>\n",
       "      <th>time_open</th>\n",
       "      <th>time_function</th>\n",
       "      <th>time_optimize</th>\n",
       "      <th>time_load</th>\n",
       "      <th>chunks</th>\n",
       "      <th>nchunks_in</th>\n",
       "      <th>nchunks_out</th>\n",
       "      <th>chunksize_in</th>\n",
       "      <th>chunksize_out</th>\n",
       "      <th>tasks_in</th>\n",
       "      <th>tasks_out</th>\n",
       "      <th>tasks_optimized</th>\n",
       "    </tr>\n",
       "  </thead>\n",
       "  <tbody>\n",
       "    <tr>\n",
       "      <th>0</th>\n",
       "      <td>8.344763</td>\n",
       "      <td>0.011151</td>\n",
       "      <td>0.003014</td>\n",
       "      <td>0.010418</td>\n",
       "      <td>8.316582</td>\n",
       "      <td>{'time': 93, 'latitude': 91, 'longitude': 180}</td>\n",
       "      <td>512</td>\n",
       "      <td>1</td>\n",
       "      <td>6.09 MB</td>\n",
       "      <td>4 B</td>\n",
       "      <td>513</td>\n",
       "      <td>1098</td>\n",
       "      <td>1098</td>\n",
       "    </tr>\n",
       "    <tr>\n",
       "      <th>1</th>\n",
       "      <td>8.237521</td>\n",
       "      <td>0.011947</td>\n",
       "      <td>0.001875</td>\n",
       "      <td>0.002899</td>\n",
       "      <td>8.213991</td>\n",
       "      <td>{'time': 93, 'latitude': 182, 'longitude': 360}</td>\n",
       "      <td>128</td>\n",
       "      <td>1</td>\n",
       "      <td>24.37 MB</td>\n",
       "      <td>4 B</td>\n",
       "      <td>129</td>\n",
       "      <td>276</td>\n",
       "      <td>276</td>\n",
       "    </tr>\n",
       "    <tr>\n",
       "      <th>2</th>\n",
       "      <td>11.880770</td>\n",
       "      <td>0.008398</td>\n",
       "      <td>0.004415</td>\n",
       "      <td>0.020437</td>\n",
       "      <td>11.834581</td>\n",
       "      <td>{'time': 93, 'latitude': 91, 'longitude': 90}</td>\n",
       "      <td>1024</td>\n",
       "      <td>1</td>\n",
       "      <td>3.05 MB</td>\n",
       "      <td>4 B</td>\n",
       "      <td>1025</td>\n",
       "      <td>2196</td>\n",
       "      <td>2196</td>\n",
       "    </tr>\n",
       "  </tbody>\n",
       "</table>\n",
       "</div>"
      ],
      "text/plain": [
       "   time_total  time_open  time_function  time_optimize  time_load  \\\n",
       "0    8.344763   0.011151       0.003014       0.010418   8.316582   \n",
       "1    8.237521   0.011947       0.001875       0.002899   8.213991   \n",
       "2   11.880770   0.008398       0.004415       0.020437  11.834581   \n",
       "\n",
       "                                            chunks  nchunks_in  nchunks_out  \\\n",
       "0   {'time': 93, 'latitude': 91, 'longitude': 180}         512            1   \n",
       "1  {'time': 93, 'latitude': 182, 'longitude': 360}         128            1   \n",
       "2    {'time': 93, 'latitude': 91, 'longitude': 90}        1024            1   \n",
       "\n",
       "  chunksize_in chunksize_out  tasks_in  tasks_out  tasks_optimized  \n",
       "0      6.09 MB           4 B       513       1098             1098  \n",
       "1     24.37 MB           4 B       129        276              276  \n",
       "2      3.05 MB           4 B      1025       2196             2196  "
      ]
     },
     "execution_count": 5,
     "metadata": {},
     "output_type": "execute_result"
    }
   ],
   "source": [
    "climtas.profile.benchmark('/g/data/ub4/era5/netcdf/surface/t2m/2019/t2m_era5_global_20190101_*.nc',\n",
    "                          variable='t2m',\n",
    "                          function=func,\n",
    "                          chunks={'time':[93, 93, 93], 'latitude': [91, 91*2, 91], 'longitude': [180, 180*2, 180//2]})"
   ]
  },
  {
   "cell_type": "markdown",
   "metadata": {},
   "source": [
    "### Distributed\n",
    "\n",
    "Let's switch to Dask's distributed mode, and process a whole year of data on 4 cpus"
   ]
  },
  {
   "cell_type": "code",
   "execution_count": 6,
   "metadata": {},
   "outputs": [
    {
     "name": "stderr",
     "output_type": "stream",
     "text": [
      "/scratch/w35/saw562/conda/envs/dev/lib/python3.8/site-packages/distributed/node.py:151: UserWarning: Port 8787 is already in use.\n",
      "Perhaps you already have a cluster running?\n",
      "Hosting the HTTP server on port 38883 instead\n",
      "  warnings.warn(\n"
     ]
    },
    {
     "data": {
      "text/html": [
       "<table style=\"border: 2px solid white;\">\n",
       "<tr>\n",
       "<td style=\"vertical-align: top; border: 0px solid white\">\n",
       "<h3 style=\"text-align: left;\">Client</h3>\n",
       "<ul style=\"text-align: left; list-style: none; margin: 0; padding: 0;\">\n",
       "  <li><b>Scheduler: </b>tcp://127.0.0.1:35741</li>\n",
       "  <li><b>Dashboard: </b><a href='/proxy/38883/status' target='_blank'>/proxy/38883/status</a></li>\n",
       "</ul>\n",
       "</td>\n",
       "<td style=\"vertical-align: top; border: 0px solid white\">\n",
       "<h3 style=\"text-align: left;\">Cluster</h3>\n",
       "<ul style=\"text-align: left; list-style:none; margin: 0; padding: 0;\">\n",
       "  <li><b>Workers: </b>4</li>\n",
       "  <li><b>Cores: </b>4</li>\n",
       "  <li><b>Memory: </b>17.18 GB</li>\n",
       "</ul>\n",
       "</td>\n",
       "</tr>\n",
       "</table>"
      ],
      "text/plain": [
       "<Client: 'tcp://127.0.0.1:35741' processes=4 threads=4, memory=17.18 GB>"
      ]
     },
     "execution_count": 6,
     "metadata": {},
     "output_type": "execute_result"
    }
   ],
   "source": [
    "import climtas.nci\n",
    "client = climtas.nci.GadiClient()\n",
    "client"
   ]
  },
  {
   "cell_type": "code",
   "execution_count": 7,
   "metadata": {},
   "outputs": [
    {
     "data": {
      "text/html": [
       "<div>\n",
       "<style scoped>\n",
       "    .dataframe tbody tr th:only-of-type {\n",
       "        vertical-align: middle;\n",
       "    }\n",
       "\n",
       "    .dataframe tbody tr th {\n",
       "        vertical-align: top;\n",
       "    }\n",
       "\n",
       "    .dataframe thead th {\n",
       "        text-align: right;\n",
       "    }\n",
       "</style>\n",
       "<table border=\"1\" class=\"dataframe\">\n",
       "  <thead>\n",
       "    <tr style=\"text-align: right;\">\n",
       "      <th></th>\n",
       "      <th>time_total</th>\n",
       "      <th>time_open</th>\n",
       "      <th>time_function</th>\n",
       "      <th>time_optimize</th>\n",
       "      <th>time_load</th>\n",
       "      <th>chunks</th>\n",
       "      <th>nchunks_in</th>\n",
       "      <th>nchunks_out</th>\n",
       "      <th>chunksize_in</th>\n",
       "      <th>chunksize_out</th>\n",
       "      <th>tasks_in</th>\n",
       "      <th>tasks_out</th>\n",
       "      <th>tasks_optimized</th>\n",
       "    </tr>\n",
       "  </thead>\n",
       "  <tbody>\n",
       "    <tr>\n",
       "      <th>0</th>\n",
       "      <td>59.922452</td>\n",
       "      <td>0.119471</td>\n",
       "      <td>0.018615</td>\n",
       "      <td>0.333104</td>\n",
       "      <td>58.995246</td>\n",
       "      <td>{'time': 93, 'latitude': 91, 'longitude': 180}</td>\n",
       "      <td>6144</td>\n",
       "      <td>1</td>\n",
       "      <td>6.09 MB</td>\n",
       "      <td>4 B</td>\n",
       "      <td>12300</td>\n",
       "      <td>19332</td>\n",
       "      <td>19332</td>\n",
       "    </tr>\n",
       "    <tr>\n",
       "      <th>1</th>\n",
       "      <td>46.908512</td>\n",
       "      <td>0.172809</td>\n",
       "      <td>0.006854</td>\n",
       "      <td>0.056711</td>\n",
       "      <td>46.660048</td>\n",
       "      <td>{'time': 93, 'latitude': 182, 'longitude': 360}</td>\n",
       "      <td>1536</td>\n",
       "      <td>1</td>\n",
       "      <td>24.37 MB</td>\n",
       "      <td>4 B</td>\n",
       "      <td>3084</td>\n",
       "      <td>4860</td>\n",
       "      <td>4860</td>\n",
       "    </tr>\n",
       "    <tr>\n",
       "      <th>2</th>\n",
       "      <td>95.761346</td>\n",
       "      <td>0.213163</td>\n",
       "      <td>0.034142</td>\n",
       "      <td>0.829632</td>\n",
       "      <td>93.819402</td>\n",
       "      <td>{'time': 93, 'latitude': 91, 'longitude': 90}</td>\n",
       "      <td>12288</td>\n",
       "      <td>1</td>\n",
       "      <td>3.05 MB</td>\n",
       "      <td>4 B</td>\n",
       "      <td>24588</td>\n",
       "      <td>38640</td>\n",
       "      <td>38640</td>\n",
       "    </tr>\n",
       "  </tbody>\n",
       "</table>\n",
       "</div>"
      ],
      "text/plain": [
       "   time_total  time_open  time_function  time_optimize  time_load  \\\n",
       "0   59.922452   0.119471       0.018615       0.333104  58.995246   \n",
       "1   46.908512   0.172809       0.006854       0.056711  46.660048   \n",
       "2   95.761346   0.213163       0.034142       0.829632  93.819402   \n",
       "\n",
       "                                            chunks  nchunks_in  nchunks_out  \\\n",
       "0   {'time': 93, 'latitude': 91, 'longitude': 180}        6144            1   \n",
       "1  {'time': 93, 'latitude': 182, 'longitude': 360}        1536            1   \n",
       "2    {'time': 93, 'latitude': 91, 'longitude': 90}       12288            1   \n",
       "\n",
       "  chunksize_in chunksize_out  tasks_in  tasks_out  tasks_optimized  \n",
       "0      6.09 MB           4 B     12300      19332            19332  \n",
       "1     24.37 MB           4 B      3084       4860             4860  \n",
       "2      3.05 MB           4 B     24588      38640            38640  "
      ]
     },
     "execution_count": 7,
     "metadata": {},
     "output_type": "execute_result"
    }
   ],
   "source": [
    "climtas.profile.benchmark('/g/data/ub4/era5/netcdf/surface/t2m/2019/t2m_era5_global_*.nc',\n",
    "                          variable='t2m',\n",
    "                          function=func,\n",
    "                          chunks={'time':[93, 93, 93], 'latitude': [91, 91*2, 91], 'longitude': [180, 180*2, 180//2]})"
   ]
  },
  {
   "cell_type": "code",
   "execution_count": null,
   "metadata": {},
   "outputs": [],
   "source": []
  }
 ],
 "metadata": {
  "kernelspec": {
   "display_name": "Python [conda env:conda-dev]",
   "language": "python",
   "name": "conda-env-conda-dev-py"
  },
  "language_info": {
   "codemirror_mode": {
    "name": "ipython",
    "version": 3
   },
   "file_extension": ".py",
   "mimetype": "text/x-python",
   "name": "python",
   "nbconvert_exporter": "python",
   "pygments_lexer": "ipython3",
   "version": "3.8.6"
  }
 },
 "nbformat": 4,
 "nbformat_minor": 4
}
